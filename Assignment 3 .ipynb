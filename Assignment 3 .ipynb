{
 "cells": [
  {
   "cell_type": "markdown",
   "id": "d716e075-20ec-436b-9bb2-307146fa3495",
   "metadata": {},
   "source": [
    "# Assignment 3\n",
    "## Name : Nape Vithanage Chanika Anjalee\n",
    "### Date : 2024.02.16"
   ]
  },
  {
   "cell_type": "markdown",
   "id": "5c5a1241-bd82-4235-a7f9-cb8be2a2f874",
   "metadata": {},
   "source": [
    "# Excercise 01\n",
    "### Write a lambda expression to get the product of two numbers. \n",
    "#### Run test for expression(5,6) Output: 30"
   ]
  },
  {
   "cell_type": "code",
   "execution_count": 1,
   "id": "e2c01f3f-c0dc-440d-9287-caf1999806ec",
   "metadata": {},
   "outputs": [
    {
     "name": "stdout",
     "output_type": "stream",
     "text": [
      "30\n"
     ]
    }
   ],
   "source": [
    "product = lambda x, y: x * y\n",
    "result = product (5, 6)\n",
    "print(result)"
   ]
  },
  {
   "cell_type": "markdown",
   "id": "91c93596-4b4c-487b-89c3-410ccea8e5b2",
   "metadata": {},
   "source": [
    "# Excercise 02\n",
    "### Write a function to get the area of a circle from the radius. Hint: remember to import the right modul for being able to calculte the area of the circle. \n",
    "#### Run test for function(10) Output: 314.1592653589793"
   ]
  },
  {
   "cell_type": "code",
   "execution_count": 2,
   "id": "05fb654a-d358-4902-9d37-3ed2b0963ce3",
   "metadata": {},
   "outputs": [
    {
     "name": "stdout",
     "output_type": "stream",
     "text": [
      "314.1592653589793\n"
     ]
    }
   ],
   "source": [
    "import math  # Import to the math module access to the value of pi\n",
    "\n",
    "def calculate_circle_area(radius):\n",
    "    return math.pi * radius**2\n",
    "\n",
    "# Test for the function\n",
    "radius = 10\n",
    "area = calculate_circle_area(radius)\n",
    "print(area)"
   ]
  },
  {
   "cell_type": "markdown",
   "id": "f7d3ea21-e73a-457e-a9fc-5aa2f498d733",
   "metadata": {},
   "source": [
    "# Excercise 03\n",
    "### Build a simple calculator which can: add, subtract, multiply, divide. Hint: solve by writing a function that takes as argument two numbers and the operation and returns the desired output. \n",
    "#### Run test for function(2,5,’d’) Output: 0.4"
   ]
  },
  {
   "cell_type": "code",
   "execution_count": 3,
   "id": "f47afbc3-bc37-4179-928b-b8e232225aa3",
   "metadata": {},
   "outputs": [
    {
     "name": "stdout",
     "output_type": "stream",
     "text": [
      "0.4\n"
     ]
    }
   ],
   "source": [
    "def calculator(num1, num2, operation):\n",
    "    if operation == 'a':\n",
    "        return num1 + num2\n",
    "    elif operation == 's':\n",
    "        return num1 - num2\n",
    "    elif operation == 'm':\n",
    "        return num1 * num2\n",
    "    elif operation == 'd':\n",
    "        if num2 == 0:\n",
    "            return \"Cannot divide by zero\"\n",
    "        else:\n",
    "            return num1 / num2\n",
    "    else:\n",
    "        return \"Invalid operation\"\n",
    "\n",
    "# Test for the function\n",
    "result = calculator(2, 5, 'd')\n",
    "print(result)"
   ]
  },
  {
   "cell_type": "markdown",
   "id": "526a499c-57be-405d-9cc0-0cbd3a6a11a0",
   "metadata": {},
   "source": [
    "# Excercise 04\n",
    "### Define a class named Rectangle which can be constructed by a length and width. The Rectangle class has a method which can compute the area. \n",
    "#### Run test for r = Rectangle(5,10) \n",
    "#### r.area() \n",
    "##### Output: 50"
   ]
  },
  {
   "cell_type": "code",
   "execution_count": 4,
   "id": "6c549d89-59a9-4a99-a520-8307231ef000",
   "metadata": {},
   "outputs": [
    {
     "name": "stdout",
     "output_type": "stream",
     "text": [
      "Output: 50\n"
     ]
    }
   ],
   "source": [
    "class Rectangle:\n",
    "    def __init__(self, length, width):\n",
    "        self.length = length\n",
    "        self.width = width\n",
    "    def area(self):   \n",
    "        return self.length * self.width\n",
    "\n",
    "# Test the Rectangle class\n",
    "r = Rectangle(5, 10)\n",
    "result = r.area()\n",
    "print(f\"Output: {result}\")"
   ]
  },
  {
   "cell_type": "markdown",
   "id": "19e193a5-f566-4280-92c6-686b78ced022",
   "metadata": {},
   "source": [
    "# Excercise 05\n",
    "### Define a class named Shape and its subclass Square. Shape objects can be consrtucted by name and length has an area function wich return 0 Square subclass has an init function which take a length and name as argument and has an area method and a describe method what prints the name of the Shape.\n",
    "#### Print the area from Square class.\r",
    "#### \n",
    "Run test for: s = Square('square',5   print(s.area())   print(s.describe())   Output: The area is: 25 This is a: square square"
   ]
  },
  {
   "cell_type": "code",
   "execution_count": 5,
   "id": "cde95629-1eec-4570-8cfb-81555b266070",
   "metadata": {},
   "outputs": [
    {
     "name": "stdout",
     "output_type": "stream",
     "text": [
      "The area is:\n",
      "25\n",
      "This is a: square\n"
     ]
    }
   ],
   "source": [
    "class Shape:\n",
    "    def __init__(self, name):\n",
    "        self.name = name\n",
    "    def area(self):\n",
    "        return 0\n",
    "        \n",
    "class Square(Shape):\n",
    "    def __init__(self, name, length):        \n",
    "        super().__init__(name)\n",
    "        self.length = length\n",
    "\n",
    "    def area(self):\n",
    "        return self.length ** 2\n",
    "\n",
    "    def describe(self):\n",
    "        return f\"This is a: {self.name}\"\n",
    "\n",
    "# Test the Square class\n",
    "s = Square('square', 5)\n",
    "print(f\"The area is:\\n{int(s.area())}\")\n",
    "print(s.describe())"
   ]
  }
 ],
 "metadata": {
  "kernelspec": {
   "display_name": "Python 3 (ipykernel)",
   "language": "python",
   "name": "python3"
  },
  "language_info": {
   "codemirror_mode": {
    "name": "ipython",
    "version": 3
   },
   "file_extension": ".py",
   "mimetype": "text/x-python",
   "name": "python",
   "nbconvert_exporter": "python",
   "pygments_lexer": "ipython3",
   "version": "3.12.1"
  }
 },
 "nbformat": 4,
 "nbformat_minor": 5
}
